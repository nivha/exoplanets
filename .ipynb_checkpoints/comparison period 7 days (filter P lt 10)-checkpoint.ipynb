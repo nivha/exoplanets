{
 "cells": [
  {
   "cell_type": "code",
   "execution_count": 1,
   "metadata": {
    "collapsed": false
   },
   "outputs": [],
   "source": [
    "%load_ext autoreload\n",
    "%autoreload 2\n",
    "%matplotlib inline\n",
    "# %qtconsole\n",
    "from IPython.display import display, HTML"
   ]
  },
  {
   "cell_type": "markdown",
   "metadata": {},
   "source": [
    "# initiate settings"
   ]
  },
  {
   "cell_type": "code",
   "execution_count": 2,
   "metadata": {
    "collapsed": false
   },
   "outputs": [],
   "source": [
    "import pandas as pd\n",
    "import os\n",
    "import numpy as np\n",
    "import pylab as plt\n",
    "from pylab import show\n",
    "import re\n",
    "from utils import vector_dist, digitize, roll_window_regardless_values, multivector_dist\n",
    "from scipy.stats import ks_2samp\n",
    "\n",
    "from pylab import savefig, rcParams\n",
    "rcParams['legend.loc'] = 'best'\n",
    "\n",
    "from sklearn.grid_search import GridSearchCV\n",
    "from sklearn.neighbors import KernelDensity\n",
    "from scipy.stats import gaussian_kde\n",
    "\n",
    "BASE_DIR = r\"D:\\Users\\Mojo\\Google Drive\\Technion\\project - astrophysics\"\n",
    "DATA_DIR = os.path.join(BASE_DIR, \"raw_data\")\n",
    "GRAPHS_DIR = os.path.join(BASE_DIR, \"graphs\")\n",
    "pd.set_option('display.width', 1000)"
   ]
  },
  {
   "cell_type": "markdown",
   "metadata": {},
   "source": [
    "# import stars and planets table"
   ]
  },
  {
   "cell_type": "code",
   "execution_count": 3,
   "metadata": {
    "collapsed": false
   },
   "outputs": [
    {
     "name": "stdout",
     "output_type": "stream",
     "text": [
      "Stars: (34886, 11)\n",
      "Read 4706 planets from file planets.xlsx\n"
     ]
    }
   ],
   "source": [
    "#### stars table ###\n",
    "stars_path = os.path.join(DATA_DIR, \"stars.xlsx\")\n",
    "stars_raw = pd.read_excel(stars_path)\n",
    "# clean stars with not Age or Teff\n",
    "stars_raw = stars_raw[stars_raw.Age.notnull()]\n",
    "stars_raw = stars_raw[stars_raw.Teff.notnull()]\n",
    "print \"Stars:\", stars_raw.shape\n",
    "\n",
    "### planets table ###\n",
    "planets_path = os.path.join(DATA_DIR, \"planets.xlsx\")\n",
    "planets = pd.read_excel(planets_path)\n",
    "p_raw = planets\n",
    "num_rows = p_raw.shape[0]\n",
    "print \"Read {:d} planets from file {:s}\".format(num_rows, \"planets.xlsx\")"
   ]
  },
  {
   "cell_type": "markdown",
   "metadata": {},
   "source": [
    "# cleaning, binning (Teff)"
   ]
  },
  {
   "cell_type": "code",
   "execution_count": 4,
   "metadata": {
    "collapsed": false
   },
   "outputs": [
    {
     "name": "stdout",
     "output_type": "stream",
     "text": [
      "Cleaning planets...\n",
      "Dropped 3382 rows without Age or Teff\n",
      "Num rows: 1324\n",
      "Dropped 22 rows with teff_34030_8826_diff > 400 (undefined temperature)\n",
      "Num rows: 1302\n",
      "Dropped 1 rows with koi_period > 5000 days\n",
      "Num rows: 1301\n",
      "Dropped 60 rows with koi_prad > 15\n",
      "Num rows: 1241\n"
     ]
    }
   ],
   "source": [
    "def dffilter(df, condition, num_rows, condition_text=\"\"):\n",
    "    df = df[condition]\n",
    "    print \"Dropped {:d} rows {:s}\".format(num_rows - df.shape[0], condition_text)\n",
    "    num_rows = df.shape[0]\n",
    "    print \"Num rows: {:d}\".format(num_rows)\n",
    "    return df, num_rows\n",
    "\n",
    "print \"Cleaning planets...\"\n",
    "# only deal with planets with age and temperature\n",
    "p_raw, num_rows = dffilter(p_raw, p_raw.Age.notnull() & p_raw.Teff.notnull(), \n",
    "                           num_rows, \"without Age or Teff\")\n",
    "# remove those planets with uncertain temperature (temp-diff < 400K)\n",
    "p_raw, num_rows = dffilter(p_raw, p_raw.teff_34030_8826_diff.fillna(0) < 400,\n",
    "                           num_rows, \"with teff_34030_8826_diff > 400 (undefined temperature)\")\n",
    "# remove planets with wrong period\n",
    "p_raw, num_rows = dffilter(p_raw, p_raw.koi_period < 5000, \n",
    "                           num_rows, \"with koi_period > 5000 days\")\n",
    "# remove planets with huge planetary-radius\n",
    "p_raw, num_rows = dffilter(p_raw, p_raw.koi_prad < 15, \n",
    "                           num_rows, \"with koi_prad > 15\")\n"
   ]
  },
  {
   "cell_type": "markdown",
   "metadata": {},
   "source": [
    "## Filtering"
   ]
  },
  {
   "cell_type": "code",
   "execution_count": 20,
   "metadata": {
    "collapsed": false
   },
   "outputs": [
    {
     "name": "stdout",
     "output_type": "stream",
     "text": [
      "Dropped 0 rows with Age > 5000Myr\n",
      "Num rows: 491\n",
      "Dropped 0 rows with koi_period > 10\n",
      "Num rows: 491\n",
      "KOI Period median: 4.790915598\n",
      "KOI Period mean: 4.9623687876\n",
      "Dropped 0 rows with koi_prad < 0.1\n",
      "Num rows: 491\n"
     ]
    },
    {
     "data": {
      "image/png": "[encoded data removed]",
      "text/plain": [
       "<matplotlib.figure.Figure at 0x20f30ba8>"
      ]
     },
     "metadata": {},
     "output_type": "display_data"
    },
    {
     "data": {
      "image/png": "[encoded data removed]",
      "text/plain": [
       "<matplotlib.figure.Figure at 0x20f30b00>"
      ]
     },
     "metadata": {},
     "output_type": "display_data"
    }
   ],
   "source": [
    "# the statistics become really small anyways for planets older than 5000Myr\n",
    "age_limit = 5000\n",
    "p_raw, num_rows = dffilter(p_raw, p_raw.Age < age_limit, \n",
    "                           num_rows, \"with Age > 5000Myr\")\n",
    "\n",
    "# This is to remove selection bias (up to 30 days the bias of the size should be small)\n",
    "vector_dist(p_raw.koi_period)\n",
    "\n",
    "p_raw, num_rows = dffilter(p_raw, p_raw.koi_period < 10, \n",
    "                           num_rows, \"with koi_period > 10\")\n",
    "\n",
    "vector_dist(p_raw.koi_period)\n",
    "\n",
    "print \"KOI Period median:\", p_raw.koi_period.median()\n",
    "print \"KOI Period mean:\", p_raw.koi_period.mean()\n",
    "\n",
    "\n",
    "# remove planets with p-rad bigger than earth-size (to avoid selection bias)\n",
    "p_raw, num_rows = dffilter(p_raw, p_raw.koi_prad > 0.1, \n",
    "                           num_rows, \"with koi_prad < 0.1\")\n",
    "\n",
    "\n",
    "\n",
    "stars = stars_raw\n",
    "p = p_raw"
   ]
  },
  {
   "cell_type": "markdown",
   "metadata": {},
   "source": [
    "## Binning"
   ]
  },
  {
   "cell_type": "code",
   "execution_count": 21,
   "metadata": {
    "collapsed": false
   },
   "outputs": [
    {
     "name": "stdout",
     "output_type": "stream",
     "text": [
      "Systems num: 407\n"
     ]
    }
   ],
   "source": [
    "###################################################################\n",
    "#          Bin systems according to temperatures                  #\n",
    "###################################################################\n",
    "systems = p[['KIC', 'Teff', 'Age']].groupby('KIC').agg(max)\n",
    "print \"Systems num:\", systems.shape[0]\n",
    "teff_categories, teff_qbins = pd.qcut(systems.Teff.values, 4, retbins=True)"
   ]
  },
  {
   "cell_type": "markdown",
   "metadata": {},
   "source": [
    "# Define dataframes (bigger/smaller than threshold)"
   ]
  },
  {
   "cell_type": "code",
   "execution_count": 22,
   "metadata": {
    "collapsed": false
   },
   "outputs": [
    {
     "name": "stdout",
     "output_type": "stream",
     "text": [
      "Systems-G num: 118\n",
      "Systems-L num: 327\n"
     ]
    }
   ],
   "source": [
    "# Based on the above results, especially the one frequency charts,\n",
    "# the main conclusion is that the frequency of planets close to the star increases with age.\n",
    "# CHECK WITH HAGAI: That might lead to a model that with time, planets get closer to the star\n",
    "# because of angular-momentum transfer to the star. That should only occur with planets close enough to the star.\n",
    "# If this is true, we would expect to see a non-increasing frequency with planets farther from the star\n",
    "\n",
    "# define df for planets smaller-bigger than threshold\n",
    "\n",
    "threshold = 7.0\n",
    "thresh_type = 'period'\n",
    "thresh_unit = 'days'\n",
    "pg = p[p.koi_period > threshold]\n",
    "pl = p[p.koi_period < threshold]\n",
    "\n",
    "# threshold = 0.06\n",
    "# thresh_type = 'sma'\n",
    "# thresh_unit = 'AU'\n",
    "# pg = p[p.koi_sma > threshold]\n",
    "# pl = p[p.koi_sma < threshold]\n",
    "\n",
    "\n",
    "# define systems-df for each planets-df\n",
    "systems_g = pg[['KIC', 'Teff', 'Age']].groupby('KIC').agg(max)\n",
    "systems_g['multiplicity'] = pg.groupby('KIC').size()\n",
    "systems_g['teff_bins'] = digitize(systems_g.Teff, teff_qbins)\n",
    "print \"Systems-G num:\", systems_g.shape[0]\n",
    "systems_l = pl[['KIC', 'Teff', 'Age']].groupby('KIC').agg(max)\n",
    "systems_l['multiplicity'] = pl.groupby('KIC').size()\n",
    "systems_l['teff_bins'] = digitize(systems_l.Teff, teff_qbins)\n",
    "print \"Systems-L num:\", systems_l.shape[0]\n"
   ]
  },
  {
   "cell_type": "markdown",
   "metadata": {},
   "source": [
    "### Check if there's a difference in temp (mass) distribution between >7 and < 7"
   ]
  },
  {
   "cell_type": "code",
   "execution_count": 23,
   "metadata": {
    "collapsed": false
   },
   "outputs": [
    {
     "data": {
      "image/png": "[encoded data removed]",
      "text/plain": [
       "<matplotlib.figure.Figure at 0x20da7240>"
      ]
     },
     "metadata": {},
     "output_type": "display_data"
    }
   ],
   "source": [
    "multivector_dist([systems_g.Teff, systems_l.Teff], \n",
    "                 title=\"Teff (Mass) Comparison between <> {}\".format(threshold), \n",
    "                 labels=[\"bigger\",\"smaller\"])"
   ]
  },
  {
   "cell_type": "code",
   "execution_count": 24,
   "metadata": {
    "collapsed": false
   },
   "outputs": [
    {
     "name": "stdout",
     "output_type": "stream",
     "text": [
      "Sanity Check\n",
      "is the intersection of Bigger-smaller empty?\n",
      "Total systems in intersection (have planets both in bigger and smaller): 38\n",
      "bigger hist:\n",
      "1    37\n",
      "2     1\n",
      "dtype: int64\n",
      "smaller hist:\n",
      "1    28\n",
      "2     8\n",
      "3     2\n",
      "dtype: int64\n",
      "If the histograms are different than it's fine (it's not the same intersection..)\n"
     ]
    }
   ],
   "source": [
    "# Multiplicities of host-systems in the intersection of bigger-smaller\n",
    "# This is just a verification that we are actually dealing with different planets \n",
    "# (If the intersection of planets is not empty we are in a problem...)\n",
    "\n",
    "kic_i = systems_g.index.intersection(systems_l.index).values\n",
    "systems_g.loc[kic_i].sort()\n",
    "systems_l.loc[kic_i].sort()\n",
    "\n",
    "print \"Sanity Check\"\n",
    "print \"is the intersection of Bigger-smaller empty?\"\n",
    "print \"Total systems in intersection (have planets both in bigger and smaller):\", kic_i.shape[0]\n",
    "print \"bigger hist:\"\n",
    "print systems_g.loc[kic_i].multiplicity.value_counts()\n",
    "print \"smaller hist:\"\n",
    "print systems_l.loc[kic_i].multiplicity.value_counts()\n",
    "\n",
    "print \"If the histograms are different than it's fine (it's not the same intersection..)\"\n"
   ]
  },
  {
   "cell_type": "markdown",
   "metadata": {},
   "source": [
    "## Estimate Densities of planets"
   ]
  },
  {
   "cell_type": "code",
   "execution_count": 25,
   "metadata": {
    "collapsed": false
   },
   "outputs": [],
   "source": [
    "def flat_systems_ages(df):\n",
    "    \"\"\"\n",
    "    Gets a dataframe of systems, each systems might have more than one planet (depend on its multiplicity)\n",
    "    For each system, \"flattens\" it to have multiplicity-times its age\n",
    "    \"\"\"    \n",
    "    ages = np.zeros(df[df.Age <= age_limit].multiplicity.sum())\n",
    "    i = 0\n",
    "    for ind in xrange(df.shape[0]):\n",
    "        for age in [df.iloc[ind].Age] * df.iloc[ind].multiplicity:\n",
    "            if df.iloc[ind].Age > age_limit: continue\n",
    "            ages[i] = df.iloc[ind].Age\n",
    "            i += 1\n",
    "    return ages\n",
    "    \n",
    "# Overall densities\n",
    "g_ages = flat_systems_ages(systems_g)\n",
    "l_ages = flat_systems_ages(systems_l)\n",
    "all_stars_ages = stars[stars.Age < age_limit].Age.values\n",
    "# Teff bins\n",
    "g_bins_ages = []\n",
    "l_bins_ages = []\n",
    "for teff_bin in xrange(len(teff_categories.categories)):\n",
    "    qg = systems_g[systems_g.teff_bins==teff_bin+1]\n",
    "    g_bins_ages.append(flat_systems_ages(qg))\n",
    "    \n",
    "    ql = systems_l[systems_l.teff_bins==teff_bin+1]\n",
    "    l_bins_ages.append(flat_systems_ages(ql))"
   ]
  },
  {
   "cell_type": "code",
   "execution_count": 26,
   "metadata": {
    "collapsed": false
   },
   "outputs": [
    {
     "data": {
      "image/png": "[encoded data removed]",
      "text/plain": [
       "<matplotlib.figure.Figure at 0x1fe09400>"
      ]
     },
     "metadata": {},
     "output_type": "display_data"
    },
    {
     "data": {
      "image/png": "[encoded data removed]",
      "text/plain": [
       "<matplotlib.figure.Figure at 0x1ed1bb38>"
      ]
     },
     "metadata": {},
     "output_type": "display_data"
    }
   ],
   "source": [
    "import statsmodels.api as sm\n",
    "\n",
    "def plot_cdf1(sample):\n",
    "    ecdf = sm.distributions.ECDF(sample)\n",
    "    x = np.linspace(min(sample), max(sample))\n",
    "    y = ecdf(x)\n",
    "    plt.step(x, y)\n",
    "\n",
    "def plot_cdf(samples, labels, ax):\n",
    "    for i, sample in enumerate(samples):\n",
    "        ecdf = sm.distributions.ECDF(sample)\n",
    "        x = np.linspace(min(sample), max(sample))\n",
    "        y = ecdf(x)\n",
    "        ax.step(x, y, label=labels[i])\n",
    "    ax.legend(loc=4)\n",
    "\n",
    "fig, axes = plt.subplots(nrows=1, ncols=1, sharex=True, sharey=True, figsize=(16,4))\n",
    "plot_cdf([g_ages, l_ages, all_stars_ages], ['g', 'l', 'all'], axes)\n",
    "\n",
    "fig, axes = plt.subplots(nrows=1, ncols=4, sharex=True, sharey=True, figsize=(16,4))\n",
    "for i in xrange(len(teff_categories.categories)):\n",
    "    plot_cdf([g_bins_ages[i], l_bins_ages[i], all_stars_ages], ['g', 'l', 'all'], axes[i])\n"
   ]
  },
  {
   "cell_type": "code",
   "execution_count": 27,
   "metadata": {
    "collapsed": false
   },
   "outputs": [
    {
     "data": {
      "image/png": "[encoded data removed]",
      "text/plain": [
       "<matplotlib.figure.Figure at 0x1eded978>"
      ]
     },
     "metadata": {},
     "output_type": "display_data"
    }
   ],
   "source": [
    "# from astroML.plotting import hist\n",
    "# hist(g_ages, bins='knuth')\n",
    "\n",
    "vector_dist(all_stars_ages, figsize=(16, 16))\n",
    "plt.gca().set_aspect('equal')\n"
   ]
  },
  {
   "cell_type": "markdown",
   "metadata": {},
   "source": [
    "#### Compute best bandwidth for each age-vector"
   ]
  },
  {
   "cell_type": "code",
   "execution_count": 28,
   "metadata": {
    "collapsed": false
   },
   "outputs": [],
   "source": [
    "# #######################################################################\n",
    "# #          Look for best bandwidth for KDE (This was done manually)   #\n",
    "# #######################################################################\n",
    "# def run_grid(x, lower, upper, n=30, cv=10):\n",
    "#     \"\"\" n: number of points on the grid \"\"\"\n",
    "#     grid = GridSearchCV(KernelDensity(kernel='gaussian'), {'bandwidth': np.linspace(lower, upper, n)}, cv=cv)\n",
    "#     grid.fit(x[:, None])\n",
    "#     return grid\n",
    "\n",
    "# def plot_grid_scores(grid, ax=None, title=\"\"):\n",
    "#     \"\"\" plot validation scores \"\"\"\n",
    "#     n = len(grid.grid_scores_)\n",
    "#     x = [grid.grid_scores_[i].parameters['bandwidth'] for i in xrange(n)]\n",
    "#     scores = [grid.grid_scores_[i].mean_validation_score for i in xrange(n)]\n",
    "#     best_x = grid.best_params_['bandwidth']\n",
    "#     if ax is None:\n",
    "#         plt.plot(x, scores)\n",
    "#         return\n",
    "#     ax.plot(x, scores)\n",
    "#     ax.set_title(\"{} {:.0f}\".format(title, best_x))    \n",
    "    "
   ]
  },
  {
   "cell_type": "code",
   "execution_count": 29,
   "metadata": {
    "collapsed": false,
    "scrolled": true
   },
   "outputs": [],
   "source": [
    "# # Remark: all_stars_ages might have faulty behaviour near 0.. so we take a bigger bandwidth\n",
    "# best_bandwidthes_no_agelimit = {\n",
    "#     \"all_stars_ages\": 4.5,\n",
    "#     \"g_ages\": 215,\n",
    "#     \"l_ages\": 160,\n",
    "#     \"g_bins_ages[0]\": 228, \n",
    "#     \"g_bins_ages[1]\": 233,\n",
    "#     \"g_bins_ages[2]\": 410,\n",
    "#     \"g_bins_ages[3]\": 278,\n",
    "#     \"l_bins_ages[0]\": 75,\n",
    "#     \"l_bins_ages[1]\": 290,\n",
    "#     \"l_bins_ages[2]\": 351,\n",
    "#     \"l_bins_ages[3]\": 243 ,\n",
    "# }\n",
    "\n",
    "# best_bandwidthes_4000 = {\n",
    "#     \"all_stars\": 30,  # 4.5\n",
    "#     \"g\": 200,\n",
    "#     \"l\": 135,\n",
    "#     \"g_bins0\": 208, \n",
    "#     \"g_bins1\": 233,\n",
    "#     \"g_bins2\": 324,\n",
    "#     \"g_bins3\": 270,\n",
    "#     \"l_bins0\": 335,  # 62\n",
    "#     \"l_bins1\": 201,\n",
    "#     \"l_bins2\": 275,\n",
    "#     \"l_bins3\": 260 ,\n",
    "# }\n",
    "\n",
    "# # plot_grid_scores(get_best_bandwidth(l_bins_ages[3], 200, 300, 200, cv=10))\n",
    "\n",
    "# ######################################################\n",
    "\n",
    "# name_params = {  # sample, ax_num, lower, upper\n",
    "#     \"g\": (g_ages, (0, 0), 150, 250),\n",
    "#     \"l\": (l_ages, (0, 1), 100, 170),\n",
    "#     \"g_bins0\": (g_bins_ages[0], (1, 0), 150, 220), \n",
    "#     \"g_bins1\": (g_bins_ages[1], (1, 1), 190, 300),\n",
    "#     \"g_bins2\": (g_bins_ages[2], (1, 2), 270, 370),\n",
    "#     \"g_bins3\": (g_bins_ages[3], (1, 3), 220, 330),\n",
    "#     \"l_bins0\": (l_bins_ages[0], (2, 0), 260, 350),\n",
    "#     \"l_bins1\": (l_bins_ages[1], (2, 1), 170, 280),\n",
    "#     \"l_bins2\": (l_bins_ages[2], (2, 2), 220, 320),\n",
    "#     \"l_bins3\": (l_bins_ages[3], (2, 3), 220, 320),\n",
    "# }\n",
    "# bws = {}\n",
    "\n",
    "# fig, axes = plt.subplots(nrows=3, ncols=4, sharex=True, figsize=(16,8))\n",
    "# fig.suptitle(\"GridSearchCV Bandwidth Scores (log-likelihood)\", size='x-large')\n",
    "# for name, params in name_params.iteritems():\n",
    "#     grid = run_grid(params[0], params[2], params[3], n=100, cv=20)    \n",
    "#     bws[name] = grid.best_params_['bandwidth']\n",
    "#     ax = params[1]\n",
    "#     plot_grid_scores(grid, ax=axes[ax[0], ax[1]], title=name)\n",
    "\n",
    "# ## Manual changes\n",
    "# bws[\"all_stars\"] = 15\n",
    "# bws[\"l_bins0\"] = 335"
   ]
  },
  {
   "cell_type": "markdown",
   "metadata": {},
   "source": [
    "#### Compute PDF for each age-vector"
   ]
  },
  {
   "cell_type": "code",
   "execution_count": 30,
   "metadata": {
    "collapsed": false
   },
   "outputs": [],
   "source": [
    "def kde_scipy(x, x_grid, bandwidth=None):\n",
    "    \"\"\"Kernel Density Estimation with Scipy\"\"\"\n",
    "    # Note that scipy weights its bandwidth by the covariance of the\n",
    "    # input data.  To make the results comparable to the other methods,\n",
    "    # we divide the bandwidth by the sample standard deviation here.\n",
    "    kde = gaussian_kde(x)\n",
    "    pdf = kde.evaluate(x_grid)\n",
    "    \n",
    "    # the bandwidth is automatically computed according to scott's rule-of-thumb (1992)\n",
    "    # which is: std * 1.06*n**(-1/5)\n",
    "    # (the last term is in kde.factor)\n",
    "    bandwidth = x.std() * kde.factor\n",
    "    \n",
    "    return pdf\n",
    "\n",
    "    \n",
    "def kde_sklearn(x, x_grid, bandwidth):\n",
    "    kde_skl = KernelDensity(bandwidth=bandwidth)\n",
    "    kde_skl.fit(x[:, np.newaxis])\n",
    "    # score_samples() returns the log-likelihood of the samples\n",
    "    log_pdf = kde_skl.score_samples(x_grid[:, np.newaxis])\n",
    "    pdf = np.exp(log_pdf)\n",
    "    return pdf    \n",
    "\n",
    "\n",
    "# ######################################################\n",
    "# #            Checking that KDE works                 #\n",
    "# ######################################################\n",
    "# # using INTC it should the bandwidth should be around 0.3\n",
    "# intc_path = \"INTC.txt\"\n",
    "# intc = pd.read_csv(intc_path)\n",
    "# def get_return_rate(df):\n",
    "#     return 100*(df['Adj Close'].diff() / df['Adj Close'].shift(1))\n",
    "# sample = get_return_rate(intc).dropna()\n",
    "# sample = sample.values\n",
    "\n",
    "# # fig, ax = plt.subplots(nrows=1, ncols=1, sharex=True)\n",
    "# # grid = run_grid(sample, 0.1, 0.5, n=50, cv=2)\n",
    "# # plot_grid_scores(grid, ax=ax, title=\"checking, max should be ~0.3\")\n",
    "# # best_bandwidth = grid.best_params_['bandwidth']\n",
    "# # print \"Best bandwidth:\", best_bandwidth\n",
    "\n",
    "# fig, axes = plt.subplots(nrows=1, ncols=2, sharex=True, sharey=True, figsize=(12, 6))\n",
    "# x_grid = np.linspace(sample.min(), sample.max(), 1000)\n",
    "\n",
    "# intc_pdf = kde_sklearn(sample, x_grid=x_grid, bandwidth=0.35)\n",
    "# axes[0].plot(x_grid, intc_pdf)\n",
    "\n",
    "# intc_pdf = kde_scipy(sample, x_grid=x_grid)\n",
    "# axes[1].plot(x_grid, intc_pdf)\n",
    "\n"
   ]
  },
  {
   "cell_type": "code",
   "execution_count": 31,
   "metadata": {
    "collapsed": false
   },
   "outputs": [],
   "source": [
    "x_grid = np.linspace(0, age_limit, 1000)\n",
    "kde = kde_scipy # if \"kde_scipy\" is used, given bandwidths to kde function can be ignored. \n",
    "                # it is being automatically computed, look in kde_scipy function.\n",
    "\n",
    "\n",
    "#### Set bandwidths if kde_scipy is used\n",
    "name_sample = {\n",
    "    \"all_stars\": all_stars_ages,\n",
    "    \"g\": g_ages,\n",
    "    \"l\": l_ages,\n",
    "    \"g_bins0\": g_bins_ages[0],\n",
    "    \"g_bins1\": g_bins_ages[1],\n",
    "    \"g_bins2\": g_bins_ages[2],\n",
    "    \"g_bins3\": g_bins_ages[3],\n",
    "    \"l_bins0\": l_bins_ages[0],\n",
    "    \"l_bins1\": l_bins_ages[1],\n",
    "    \"l_bins2\": l_bins_ages[2],\n",
    "    \"l_bins3\": l_bins_ages[3],\n",
    "}\n",
    "bws = {}\n",
    "for name, sample in name_sample.iteritems():\n",
    "    s = sample.std()\n",
    "    bws[name] = s * gaussian_kde(sample).factor\n",
    "######\n",
    "\n",
    "    \n",
    "all_stars_ages_pdf = kde(all_stars_ages, x_grid, bandwidth=bws['all_stars'])\n",
    "# Remark: for all_stars_ages GridSearchCV gives best score for bandwidth~4.5\n",
    "#         I think it's a problem because of the constraint that all values are positive\n",
    "#         Therefore, There's some \"faulty\" behaviour close to 0, where there are also lots of samples..\n",
    "#         but not that many as it looks with bandwidth=4.5\n",
    "\n",
    "# Overall PDFs\n",
    "g_ages_pdf = kde(g_ages, x_grid, bandwidth=bws['g'])\n",
    "l_ages_pdf = kde(l_ages, x_grid, bandwidth=bws['l'])\n",
    "# Temp bins PDFs\n",
    "g_bins_ages_pdf = [None] * 4\n",
    "g_bins_ages_pdf[0] = kde(g_bins_ages[0], x_grid, bandwidth=bws['g_bins0'])\n",
    "g_bins_ages_pdf[1] = kde(g_bins_ages[1], x_grid, bandwidth=bws['g_bins1'])\n",
    "g_bins_ages_pdf[2] = kde(g_bins_ages[2], x_grid, bandwidth=bws['g_bins2'])\n",
    "g_bins_ages_pdf[3] = kde(g_bins_ages[3], x_grid, bandwidth=bws['g_bins3'])\n",
    "l_bins_ages_pdf = [None] * 4\n",
    "l_bins_ages_pdf[0] = kde(l_bins_ages[0], x_grid, bandwidth=bws['l_bins0'])\n",
    "l_bins_ages_pdf[1] = kde(l_bins_ages[1], x_grid, bandwidth=bws['l_bins1'])\n",
    "l_bins_ages_pdf[2] = kde(l_bins_ages[2], x_grid, bandwidth=bws['l_bins2'])\n",
    "l_bins_ages_pdf[3] = kde(l_bins_ages[3], x_grid, bandwidth=bws['l_bins3'])\n",
    "\n",
    "#######################################################################\n",
    "#          Debias PDFs according to all_stars_pdf                     #\n",
    "#######################################################################\n",
    "normalize = lambda d: d / sum(d)\n",
    "\n",
    "# all pdfs are computed on the same grid, so we just have to divide each pdf with the all_stars_pdf\n",
    "debiased_g_ages_pdf = g_ages_pdf / all_stars_ages_pdf\n",
    "debiased_g_ages_pdf = normalize(debiased_g_ages_pdf)\n",
    "\n",
    "debiased_l_ages_pdf = l_ages_pdf / all_stars_ages_pdf\n",
    "debiased_l_ages_pdf = normalize(debiased_l_ages_pdf)\n",
    "\n",
    "debiased_g_bins_ages_pdf = [None] * 4\n",
    "for i in xrange(4):\n",
    "    debiased_g_bins_ages_pdf[i] = g_bins_ages_pdf[i] / all_stars_ages_pdf\n",
    "    debiased_g_bins_ages_pdf[i] = normalize(debiased_g_bins_ages_pdf[i])\n",
    "debiased_l_bins_ages_pdf = [None] * 4\n",
    "for i in xrange(4):\n",
    "    debiased_l_bins_ages_pdf[i] = l_bins_ages_pdf[i] / all_stars_ages_pdf\n",
    "    debiased_l_bins_ages_pdf[i] = normalize(debiased_l_bins_ages_pdf[i])"
   ]
  },
  {
   "cell_type": "markdown",
   "metadata": {},
   "source": [
    "#### Plot PDFs"
   ]
  },
  {
   "cell_type": "code",
   "execution_count": 32,
   "metadata": {
    "collapsed": false
   },
   "outputs": [
    {
     "data": {
      "text/plain": [
       "'Comparing period'"
      ]
     },
     "metadata": {},
     "output_type": "display_data"
    },
    {
     "name": "stdout",
     "output_type": "stream",
     "text": [
      "Bigger than 7.0 days vs. Smaller than 7.0 days\n"
     ]
    },
    {
     "data": {
      "image/png": "[encoded data removed]",
      "text/plain": [
       "<matplotlib.figure.Figure at 0x1f751208>"
      ]
     },
     "metadata": {},
     "output_type": "display_data"
    },
    {
     "data": {
      "image/png": "[encoded data removed]",
      "text/plain": [
       "<matplotlib.figure.Figure at 0x20d70470>"
      ]
     },
     "metadata": {},
     "output_type": "display_data"
    },
    {
     "data": {
      "image/png": "[encoded data removed]",
      "text/plain": [
       "<matplotlib.figure.Figure at 0x21bf01d0>"
      ]
     },
     "metadata": {},
     "output_type": "display_data"
    }
   ],
   "source": [
    "\n",
    "max_age_to_plot = 3500\n",
    "\n",
    "display(\"Comparing {}\".format(thresh_type))\n",
    "print \"Bigger than {} {} vs. Smaller than {} {}\".format(threshold, thresh_unit, threshold, thresh_unit)\n",
    "\n",
    "def plot_pdfs(g, l, sizes, bws, ax, title=\"\"):\n",
    "    ax.plot(x_grid, g, label='g ({:.0f})'.format(bws[0]))\n",
    "    ax.plot(x_grid, l, label='l ({:.0f})'.format(bws[1]))\n",
    "    ax.set_title(title)\n",
    "    ax.set_xlabel(\"Age [Myr]\")\n",
    "    ax.set_xlim([0, max_age_to_plot])\n",
    "    ax.annotate('num samples', xy=(0.00, 1.15), xycoords='axes fraction')\n",
    "    ax.annotate('> {}'.format(sizes[0]), xy=(0.00, 1.10), xycoords='axes fraction')\n",
    "    ax.annotate('< {}'.format(sizes[1]), xy=(0.00, 1.05), xycoords='axes fraction')\n",
    "    ax.legend()\n",
    "\n",
    "# Overall Biased\n",
    "fig, ax = plt.subplots(nrows=1, ncols=1, sharex=True, sharey=True, figsize=(16,4))\n",
    "plot_pdfs(g_ages_pdf, l_ages_pdf, \n",
    "          sizes=[g_ages.shape[0], l_ages.shape[0]],\n",
    "          bws=[bws['g'], bws['l']],\n",
    "          ax=ax, \n",
    "          title=\"Biased KDE PDFs (Overall)\")\n",
    "plt.plot(x_grid, all_stars_ages_pdf, label='all stars')\n",
    "fig.savefig(os.path.join(GRAPHS_DIR, \"kde_overall_biased.png\"))\n",
    "\n",
    "# Overall Debiased\n",
    "fig, ax = plt.subplots(nrows=1, ncols=1, sharex=True, sharey=True, figsize=(16,4))\n",
    "plot_pdfs(debiased_g_ages_pdf, debiased_l_ages_pdf, \n",
    "          sizes=[g_ages.shape[0], l_ages.shape[0]], \n",
    "          bws=[bws['g'], bws['l']],\n",
    "          ax=ax, \n",
    "          title=\"Debiased KDE PDFs (Overall)\")\n",
    "plt.legend(loc=4)\n",
    "fig.savefig(os.path.join(GRAPHS_DIR, \"kde_overall_unbiased.png\"))\n",
    "\n",
    "# Temp bins (Debiased)\n",
    "fig, axes = plt.subplots(nrows=1, ncols=4, sharex=True, sharey=True, figsize=(16,4))\n",
    "fig.suptitle(\"KDE PDFs of temp-bins\", size='x-large', y=1.12)\n",
    "for i in xrange(len(teff_categories.categories)):\n",
    "    ax = axes[i]\n",
    "    plot_pdfs(debiased_g_bins_ages_pdf[i], debiased_l_bins_ages_pdf[i], \n",
    "              sizes=[g_bins_ages[i].shape[0], l_bins_ages[i].shape[0]], \n",
    "              bws=[bws['g_bins{}'.format(i)], bws['l_bins{}'.format(i)]],\n",
    "              ax=ax, \n",
    "              title=\"{}K\".format(teff_categories.categories[i]))\n",
    "fig.savefig(os.path.join(GRAPHS_DIR, \"kde_tempbins_unbiased.png\"))"
   ]
  },
  {
   "cell_type": "markdown",
   "metadata": {
    "collapsed": true
   },
   "source": [
    "## Compute rolling windows statistics"
   ]
  },
  {
   "cell_type": "code",
   "execution_count": 33,
   "metadata": {
    "collapsed": false
   },
   "outputs": [],
   "source": [
    "###################################################################\n",
    "#           Compute runnning window regarding the values          #\n",
    "###################################################################\n",
    "\n",
    "# min_window_obs_num = 30\n",
    "\n",
    "# fig_win_size, axes_win_obs_num = plt.subplots(nrows=1, ncols=1, sharex=True, sharey=True, figsize=(16,4))\n",
    "# fig_win_size.suptitle(\"window-obs-num\", size='xx-large', y=1.08)\n",
    "# def get_rolling_window(q):\n",
    "#     q = q.sort('Age')\n",
    "#     rolling_df = rollBy(q.multiplicity, q.Age, stars, window=1000)\n",
    "#     rolling_df.plot('mean_age', 'forward_win_size', ax=axes_win_obs_num)\n",
    "#     print 'size before filter small windows:', rolling_df.shape[0]\n",
    "#     rolling_df = rolling_df[rolling_df.forward_win_size > min_window_obs_num]\n",
    "#     print 'size after filtering small windows:', rolling_df.shape[0]\n",
    "#     return rolling_df\n",
    "\n",
    "# print \"G\"\n",
    "# rolling_df_g = get_rolling_window(systems_g)\n",
    "# print \"L\"\n",
    "# rolling_df_l = get_rolling_window(systems_l)\n",
    "\n",
    "# max_age = max(rolling_df_g['mean_age'].max(), rolling_df_l['mean_age'].max())\n",
    "\n",
    "###################################################################\n",
    "#           Compute runnning window regardless of values          #\n",
    "###################################################################\n",
    "\n",
    "def get_rolling_window(q, window_size, num_ticks, min_window_obs_num, ax):\n",
    "    q = q.sort('Age')\n",
    "    rolling_df = roll_window_regardless_values(q.multiplicity, q.Age, stars, window_size=window_size, num_ticks=num_ticks)\n",
    "\n",
    "    # Plot statistics for window samples num\n",
    "    rolling_df.plot('mean_age', 'forward_win_size', ax=ax)\n",
    "    print 'size before filter small windows:', rolling_df.shape[0]\n",
    "    ax.axhline(y=min_window_obs_num, color='r')\n",
    "    rolling_df = rolling_df[rolling_df.forward_win_size > min_window_obs_num]\n",
    "    print 'size after filtering small windows:', rolling_df.shape[0]\n",
    "    \n",
    "    return rolling_df\n",
    "\n",
    "\n",
    "\n",
    "# ###################################################################\n",
    "# #           Compute for Overall                                   #\n",
    "# ###################################################################\n",
    "\n",
    "# min_window_obs_num = 30\n",
    "# window_size = 500\n",
    "# num_ticks = 1000\n",
    "\n",
    "# fig, ax = plt.subplots(nrows=1, ncols=1, sharex=True, sharey=True, figsize=(16,4))\n",
    "# fig.suptitle(\"window-obs-num\", size='xx-large', y=1.00)\n",
    "# print \"G\"\n",
    "# rolling_df_g = get_rolling_window(systems_g, window_size, num_ticks, min_window_obs_num, ax=ax)\n",
    "# print \"L\"\n",
    "# rolling_df_l = get_rolling_window(systems_l, window_size, num_ticks, min_window_obs_num, ax=ax)\n",
    "\n",
    "\n",
    "# ###################################################################\n",
    "# #           Compute for bins                                      #\n",
    "# ###################################################################\n",
    "\n",
    "# min_window_obs_num = 20\n",
    "# window_size = 1500\n",
    "# num_ticks = 400\n",
    "\n",
    "\n",
    "# fig, axes = plt.subplots(nrows=1, ncols=4, sharex=True, sharey=True, figsize=(16,4))\n",
    "# fig.suptitle(\"window-obs-num\", size='xx-large', y=1.00)\n",
    "# teff_rollings = []\n",
    "# for teff_bin in xrange(len(teff_categories.categories)):\n",
    "#     qg = systems_g[systems_g.teff_bins==teff_bin+1]\n",
    "#     ql = systems_l[systems_l.teff_bins==teff_bin+1]\n",
    "\n",
    "#     ax = axes[teff_bin]\n",
    "#     g = get_rolling_window(qg, window_size, num_ticks, min_window_obs_num, ax=ax)\n",
    "#     l = get_rolling_window(ql, window_size, num_ticks, min_window_obs_num, ax=ax)\n",
    "    \n",
    "#     teff_rollings.append((g, l))\n"
   ]
  },
  {
   "cell_type": "markdown",
   "metadata": {},
   "source": [
    "## Compare frequency, multiplicity - overall"
   ]
  },
  {
   "cell_type": "code",
   "execution_count": 34,
   "metadata": {
    "collapsed": false,
    "scrolled": false
   },
   "outputs": [
    {
     "ename": "NameError",
     "evalue": "name 'rolling_df_g' is not defined",
     "output_type": "error",
     "traceback": [
      "\u001b[1;31m---------------------------------------------------------------------------\u001b[0m",
      "\u001b[1;31mNameError\u001b[0m                                 Traceback (most recent call last)",
      "\u001b[1;32m<ipython-input-34-01e01b52a7e3>\u001b[0m in \u001b[0;36m<module>\u001b[1;34m()\u001b[0m\n\u001b[0;32m     37\u001b[0m \u001b[1;33m\u001b[0m\u001b[0m\n\u001b[0;32m     38\u001b[0m \u001b[1;31m# rolling_df.plot('mean_age', 'ks-score', title='moving window KS score', logy=True)\u001b[0m\u001b[1;33m\u001b[0m\u001b[1;33m\u001b[0m\u001b[0m\n\u001b[1;32m---> 39\u001b[1;33m \u001b[0mcompare_two_sides\u001b[0m\u001b[1;33m(\u001b[0m\u001b[1;34m'mean multiplicity'\u001b[0m\u001b[1;33m,\u001b[0m \u001b[0mrolling_df_g\u001b[0m\u001b[1;33m,\u001b[0m \u001b[0mrolling_df_l\u001b[0m\u001b[1;33m,\u001b[0m \u001b[1;34m'mean'\u001b[0m\u001b[1;33m,\u001b[0m \u001b[1;34m'comparison_multiplicity.png'\u001b[0m\u001b[1;33m)\u001b[0m\u001b[1;33m\u001b[0m\u001b[0m\n\u001b[0m\u001b[0;32m     40\u001b[0m \u001b[0mcompare_two_sides_bins\u001b[0m\u001b[1;33m(\u001b[0m\u001b[1;34m'mean multiplicity'\u001b[0m\u001b[1;33m,\u001b[0m \u001b[0mteff_rollings\u001b[0m\u001b[1;33m,\u001b[0m \u001b[1;34m'mean'\u001b[0m\u001b[1;33m,\u001b[0m \u001b[1;34m'comparison_multiplicity_temp_bins.png'\u001b[0m\u001b[1;33m)\u001b[0m\u001b[1;33m\u001b[0m\u001b[0m\n\u001b[0;32m     41\u001b[0m \u001b[1;33m\u001b[0m\u001b[0m\n",
      "\u001b[1;31mNameError\u001b[0m: name 'rolling_df_g' is not defined"
     ]
    }
   ],
   "source": [
    "def compare_two_sides(title, g, l, yvalues='mean', saveas='', **kwargs):\n",
    "    fig, ax = plt.subplots(nrows=1, ncols=1, sharex=True, sharey=True, figsize=(16,4))\n",
    "    g.plot('mean_age', yvalues, ax=ax, label='{} > {} {}'.format(thresh_type, threshold, thresh_unit))\n",
    "    l.plot('mean_age', yvalues, ax=ax, label='{} < {} {}'.format(thresh_type, threshold, thresh_unit))\n",
    "    ax.set_xlabel(\"mean age [Myr]\")\n",
    "#     # compute ks-score\n",
    "#     score = ks_2samp(g[yvalues], l[yvalues]).pvalue\n",
    "#     title = \"{:s}\\nscore: {}\".format(title, score)\n",
    "    \n",
    "    fig.suptitle(title, size='xx-large', y=1.00)\n",
    "    fig.savefig(os.path.join(GRAPHS_DIR, saveas))\n",
    "#     plt.annotate('num samples', xy=(0.00, 1.15), xycoords='axes fraction')\n",
    "#     plt.annotate('> {}'.format(g.shape[0]), xy=(0.00, 1.10), xycoords='axes fraction')\n",
    "#     plt.annotate('< {}'.format(l.shape[0]), xy=(0.00, 1.05), xycoords='axes fraction')\n",
    "\n",
    "    \n",
    "def compare_two_sides_bins(title, teff_rollings, yvalues='mean', saveas='', **kwargs):\n",
    "    fig, axes = plt.subplots(nrows=1, ncols=4, sharex=True, sharey=True, figsize=(16,4))\n",
    "    fig.suptitle(title, size='xx-large', y=1.08)\n",
    "\n",
    "    for teff_bin in xrange(len(teff_categories.categories)):\n",
    "        ax = axes[teff_bin]\n",
    "        \n",
    "        g = teff_rollings[teff_bin][0]\n",
    "        l = teff_rollings[teff_bin][1]\n",
    "\n",
    "        g.plot('mean_age', yvalues, ax=ax, label='{} > {} {}'.format(thresh_type, threshold, thresh_unit))\n",
    "        l.plot('mean_age', yvalues, ax=ax, label='{} < {} {}'.format(thresh_type, threshold, thresh_unit))\n",
    "        \n",
    "        ax.set_title(\"{}K\".format(teff_categories.categories[teff_bin]))\n",
    "        ax.set_xlabel(\"mean age [Myr]\")\n",
    "        # ax.annotate('num samples', xy=(0.00, 1.15), xycoords='axes fraction')\n",
    "#         ax.annotate('> {}'.format(g.shape[0]), xy=(0.00, 1.10), xycoords='axes fraction')\n",
    "#         ax.annotate('< {}'.format(l.shape[0]), xy=(0.00, 1.05), xycoords='axes fraction')\n",
    "    \n",
    "    fig.savefig(os.path.join(GRAPHS_DIR, saveas))\n",
    "\n",
    "# rolling_df.plot('mean_age', 'ks-score', title='moving window KS score', logy=True)\n",
    "compare_two_sides('mean multiplicity', rolling_df_g, rolling_df_l, 'mean', 'comparison_multiplicity.png')\n",
    "compare_two_sides_bins('mean multiplicity', teff_rollings, 'mean', 'comparison_multiplicity_temp_bins.png')\n",
    "\n",
    "compare_two_sides('planets frequency', rolling_df_g, rolling_df_l, 'planets-freq', 'comparison_planet_frequency.png')\n",
    "compare_two_sides_bins('planets frequency', teff_rollings, 'planets-freq', 'comparison_planet_frequency_temp_bins.png')\n",
    "\n",
    "compare_two_sides('systems frequency', rolling_df_g, rolling_df_l, 'systems-freq', 'comparison_system_frequency.png')\n",
    "compare_two_sides_bins('systems frequency', teff_rollings, 'systems-freq', 'comparison_system_frequency_temp_bins.png')\n",
    "\n",
    "compare_two_sides('ks-score', rolling_df_g, rolling_df_l, 'ks-score', 'comparison_ks.png')\n",
    "compare_two_sides_bins('ks-score', teff_rollings, 'ks-score', 'comparison_ks_temp_bins.png')\n"
   ]
  },
  {
   "cell_type": "markdown",
   "metadata": {},
   "source": [
    "### Make Animations"
   ]
  },
  {
   "cell_type": "code",
   "execution_count": null,
   "metadata": {
    "collapsed": false,
    "scrolled": true
   },
   "outputs": [],
   "source": [
    "# import numpy as np\n",
    "# from matplotlib import pyplot as plt\n",
    "# from matplotlib import animation\n",
    "\n",
    "\n",
    "# fig = plt.figure()\n",
    "# ax = plt.axes(xlim=(0, 3500), ylim=(0, 0.03))\n",
    "# line, = ax.plot([], [], lw=2)\n",
    "\n",
    "# ### Parameters ###\n",
    "# min_window_obs_num = 30\n",
    "# window_size = 500\n",
    "# num_ticks = 1000\n",
    "\n",
    "# def get_rolling_window(q, window_size, num_ticks, min_window_obs_num):\n",
    "#     q = q.sort('Age')\n",
    "#     rolling_df = roll_window_regardless_values(q.multiplicity, q.Age, stars, window_size=window_size, num_ticks=num_ticks)\n",
    "#     rolling_df = rolling_df[rolling_df.forward_win_size > min_window_obs_num]\n",
    "#     return rolling_df\n",
    "\n",
    "# def animate(frame):\n",
    "\n",
    "#     print \">>>>>>>>>>\", frame\n",
    "#     thresholds = [6.7, 7, 7.3]\n",
    "    \n",
    "#     ### Define the threshold ###\n",
    "#     threshold = thresholds[frame]\n",
    "#     thresh_type = 'period'\n",
    "#     thresh_unit = 'days'\n",
    "#     yvalues = 'planets-freq'\n",
    "#     title = 'planets frequency'\n",
    "    \n",
    "#     # define df for planets smaller-bigger than threshold\n",
    "#     pg = p[p.koi_period > threshold]\n",
    "#     pl = p[p.koi_period < threshold]\n",
    "#     # define systems-df for each planets-df\n",
    "#     systems_g = pg[['KIC', 'Teff', 'Age']].groupby('KIC').agg(max)\n",
    "#     systems_g['multiplicity'] = pg.groupby('KIC').size()\n",
    "#     systems_g['teff_bins'] = digitize(systems_g.Teff, teff_qbins)\n",
    "#     systems_l = pl[['KIC', 'Teff', 'Age']].groupby('KIC').agg(max)\n",
    "#     systems_l['multiplicity'] = pl.groupby('KIC').size()\n",
    "#     systems_l['teff_bins'] = digitize(systems_l.Teff, teff_qbins)\n",
    "#     ### Compute rolling windows ###\n",
    "#     g = get_rolling_window(systems_g, window_size, num_ticks, min_window_obs_num)\n",
    "#     l = get_rolling_window(systems_l, window_size, num_ticks, min_window_obs_num)\n",
    "\n",
    "#     x = g['mean_age'].values\n",
    "#     y = g[yvalues].values\n",
    "#     line.set_data(x, y)\n",
    "#     return line,    \n",
    "        \n",
    "# #     im1 = g.plot('mean_age', yvalues, label='{} > {} {}'.format(thresh_type, threshold, thresh_unit))\n",
    "# #     im2 = l.plot('mean_age', yvalues, label='{} < {} {}'.format(thresh_type, threshold, thresh_unit))\n",
    "# #     plt.set_xlabel(\"mean age [Myr]\")\n",
    "# #     plt.title(title, size='xx-large', y=1.00)\n",
    "    \n",
    "# #     plt.annotate('num samples', xy=(0.00, 1.15), xycoords='axes fraction')\n",
    "# #     plt.annotate('> {}'.format(g.shape[0]), xy=(0.00, 1.10), xycoords='axes fraction')\n",
    "# #     plt.annotate('< {}'.format(l.shape[0]), xy=(0.00, 1.05), xycoords='axes fraction')\n",
    "\n",
    "    \n",
    "# def init():\n",
    "#     line.set_data([], [])\n",
    "#     return line,\n",
    "    \n",
    "# anim = animation.FuncAnimation(fig, animate, init_func=init, frames=3, interval=1000, blit=True)\n",
    "\n",
    "# # anim.save('planets-freq_threshold.mp4', fps=1, extra_args=['-vcodec', 'libx264'])\n",
    "\n",
    "# # plt.show()\n",
    "\n",
    "\n"
   ]
  },
  {
   "cell_type": "code",
   "execution_count": null,
   "metadata": {
    "collapsed": false
   },
   "outputs": [],
   "source": [
    "# #run animation\n",
    "# zz = ims\n",
    "# fig = plt.figure()\n",
    "# ani = animation.ArtistAnimation(fig,ims, interval=50,blit=False)\n",
    "# plt.show()\n",
    "\n",
    "# # anim = animation.FuncAnimation(fig, animate, init_func=init,\n",
    "# #                                frames=200, interval=20, blit=True)\n",
    "# ani.save('planets-freq_threshold.mp4', fps=1, extra_args=['-vcodec', 'libx264'])"
   ]
  },
  {
   "cell_type": "code",
   "execution_count": null,
   "metadata": {
    "collapsed": false
   },
   "outputs": [],
   "source": [
    "# import numpy as np\n",
    "# from matplotlib import pyplot as plt\n",
    "# from matplotlib import animation\n",
    "\n",
    "\n",
    "# ### Parameters ###\n",
    "# min_window_obs_num = 20\n",
    "# window_size = 1500\n",
    "# num_ticks = 400\n",
    "\n",
    "# ### Define the thrshold ###\n",
    "# threshold = 7\n",
    "# thresh_type = 'period'\n",
    "# thresh_unit = 'days'\n",
    "# # define df for planets smaller-bigger than threshold\n",
    "# pg = p[p.koi_period > threshold]\n",
    "# pl = p[p.koi_period < threshold]\n",
    "# # define systems-df for each planets-df\n",
    "# systems_g = pg[['KIC', 'Teff', 'Age']].groupby('KIC').agg(max)\n",
    "# systems_g['multiplicity'] = pg.groupby('KIC').size()\n",
    "# systems_g['teff_bins'] = digitize(systems_g.Teff, teff_qbins)\n",
    "# systems_l = pl[['KIC', 'Teff', 'Age']].groupby('KIC').agg(max)\n",
    "# systems_l['multiplicity'] = pl.groupby('KIC').size()\n",
    "# systems_l['teff_bins'] = digitize(systems_l.Teff, teff_qbins)\n",
    "\n",
    "# ### Compute rolling windows ###\n",
    "# fig, axes = plt.subplots(nrows=1, ncols=4, sharex=True, sharey=True, figsize=(16,4))\n",
    "# fig.suptitle(\"window-obs-num\", size='xx-large', y=1.00)\n",
    "# teff_rollings = []\n",
    "# for teff_bin in xrange(len(teff_categories.categories)):\n",
    "#     qg = systems_g[systems_g.teff_bins==teff_bin+1]\n",
    "#     ql = systems_l[systems_l.teff_bins==teff_bin+1]\n",
    "\n",
    "#     ax = axes[teff_bin]\n",
    "#     g = get_rolling_window(qg, window_size, num_ticks, min_window_obs_num, ax=ax)\n",
    "#     l = get_rolling_window(ql, window_size, num_ticks, min_window_obs_num, ax=ax)\n",
    "    \n",
    "#     teff_rollings.append((g, l))\n",
    "\n",
    "\n",
    "# ### Compute the plots.. ###\n",
    "# def compare_two_sides_bins(title, teff_rollings, yvalues='mean', saveas='', **kwargs):\n",
    "#     fig, axes = plt.subplots(nrows=1, ncols=4, sharex=True, sharey=True, figsize=(16,4))\n",
    "#     fig.suptitle(title, size='xx-large', y=1.08)\n",
    "\n",
    "#     for teff_bin in xrange(len(teff_categories.categories)):\n",
    "#         ax = axes[teff_bin]\n",
    "        \n",
    "#         g = teff_rollings[teff_bin][0]\n",
    "#         l = teff_rollings[teff_bin][1]\n",
    "\n",
    "#         g.plot('mean_age', yvalues, ax=ax, label='{} > {} {}'.format(thresh_type, threshold, thresh_unit))\n",
    "#         l.plot('mean_age', yvalues, ax=ax, label='{} < {} {}'.format(thresh_type, threshold, thresh_unit))\n",
    "        \n",
    "#         ax.set_title(\"{}K\".format(teff_categories.categories[teff_bin]))\n",
    "#         ax.set_xlabel(\"mean age [Myr]\")\n",
    "#         # ax.annotate('num samples', xy=(0.00, 1.15), xycoords='axes fraction')\n",
    "#         ax.annotate('> {}'.format(g.shape[0]), xy=(0.00, 1.10), xycoords='axes fraction')\n",
    "#         ax.annotate('< {}'.format(l.shape[0]), xy=(0.00, 1.05), xycoords='axes fraction')\n",
    "    \n",
    "#     fig.savefig(os.path.join(GRAPHS_DIR, saveas))\n",
    "\n",
    "# compare_two_sides_bins('planets frequency', teff_rollings, 'planets-freq', 'comparison_planet_frequency_temp_bins.png')\n",
    "\n",
    "    \n",
    "    \n",
    "# def init():\n",
    "\n",
    "\n",
    "    \n",
    "# fig, axes = plt.subplots(nrows=1, ncols=4, sharex=True, sharey=True, figsize=(16,4))\n",
    "\n",
    "\n",
    "# anim = animation.FuncAnimation(fig, animate, init_func=init,\n",
    "#                                frames=200, interval=20, blit=True)\n",
    "# anim.save('basic_animation.mp4', fps=30, extra_args=['-vcodec', 'libx264'])\n"
   ]
  }
 ],
 "metadata": {
  "kernelspec": {
   "display_name": "Python 2",
   "language": "python",
   "name": "python2"
  },
  "language_info": {
   "codemirror_mode": {
    "name": "ipython",
    "version": 2
   },
   "file_extension": ".py",
   "mimetype": "text/x-python",
   "name": "python",
   "nbconvert_exporter": "python",
   "pygments_lexer": "ipython2",
   "version": "2.7.10"
  }
 },
 "nbformat": 4,
 "nbformat_minor": 0
}
